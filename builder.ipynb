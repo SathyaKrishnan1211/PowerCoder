{
 "cells": [
  {
   "cell_type": "code",
   "execution_count": 1,
   "metadata": {},
   "outputs": [],
   "source": [
    "import pandas as pd\n",
    "import numpy as np\n",
    "import pickle\n",
    "import string"
   ]
  },
  {
   "cell_type": "markdown",
   "metadata": {},
   "source": [
    "# Building the preprocessor "
   ]
  },
  {
   "cell_type": "code",
   "execution_count": 2,
   "metadata": {},
   "outputs": [],
   "source": [
    "from typing import *"
   ]
  },
  {
   "cell_type": "code",
   "execution_count": 3,
   "metadata": {},
   "outputs": [
    {
     "name": "stderr",
     "output_type": "stream",
     "text": [
      "[nltk_data] Downloading package stopwords to\n",
      "[nltk_data]     /Users/sathyakrishnansuresh/nltk_data...\n",
      "[nltk_data]   Package stopwords is already up-to-date!\n",
      "[nltk_data] Downloading package omw-1.4 to\n",
      "[nltk_data]     /Users/sathyakrishnansuresh/nltk_data...\n",
      "[nltk_data]   Package omw-1.4 is already up-to-date!\n",
      "[nltk_data] Downloading package wordnet to\n",
      "[nltk_data]     /Users/sathyakrishnansuresh/nltk_data...\n",
      "[nltk_data]   Package wordnet is already up-to-date!\n"
     ]
    },
    {
     "data": {
      "text/plain": [
       "True"
      ]
     },
     "execution_count": 3,
     "metadata": {},
     "output_type": "execute_result"
    }
   ],
   "source": [
    "import nltk\n",
    "nltk.download(\"stopwords\")\n",
    "nltk.download('omw-1.4')\n",
    "nltk.download('wordnet')"
   ]
  },
  {
   "cell_type": "code",
   "execution_count": 21,
   "metadata": {},
   "outputs": [],
   "source": [
    "class TfIdfTokenizer:\n",
    "\n",
    "    STOPWORDS = nltk.corpus.stopwords.words(\"english\")\n",
    "    WN_LEMMATIZER = nltk.stem.WordNetLemmatizer()\n",
    "\n",
    "    def __init__(self,\n",
    "                 casefold: bool=True,\n",
    "                 remove_stop_words: bool=True,\n",
    "                 lemmatize: bool=True) -> None:\n",
    "        \n",
    "        self.casefold = casefold\n",
    "        self.remove_stop_words = remove_stop_words\n",
    "        self.lemmatize = lemmatize\n",
    "        self.vectorizer = pickle.load(open(\"tokenizer/tfidf.sav\", \"rb\"))\n",
    "    \n",
    "    def __repr__(self) -> str:\n",
    "        return f\"TfIdfProcesser(casefold={self.casefold}\" + \\\n",
    "               f\",remove_stop_words={self.remove_stop_words},\" + \\\n",
    "               f\"lemmatize={self.lemmatize})\"\n",
    "    \n",
    "    def __str__(self) -> str:\n",
    "        return f\"TfIdfProcesser(casefold={self.casefold}\" + \\\n",
    "               f\",remove_stop_words={self.remove_stop_words},\" + \\\n",
    "               f\"lemmatize={self.lemmatize})\"\n",
    "\n",
    "    def process(self,\n",
    "                questions: Union[np.ndarray, pd.Series, pd.DataFrame],\n",
    "                col_name: str=None) -> np.ndarray:\n",
    "        \n",
    "        if not (isinstance(questions, np.ndarray) or isinstance(questions, pd.Series) or isinstance(questions, pd.DataFrame)):\n",
    "            raise TypeError(f\"'questions' must be of type numpy.ndarray or pandas.Series or pandas.DataFrame. But it is of type {type(questions)}\")\n",
    "\n",
    "        if isinstance(questions, np.ndarray):\n",
    "            if len(questions.shape) > 1:\n",
    "                raise ValueError(f\"Expected one dimensional numpy array, but got array of shape: {questions.shape}\")\n",
    "            else:\n",
    "                self.df = pd.DataFrame(data=questions, columns=[\"questions\"])\n",
    "        elif isinstance(questions, pd.Series):\n",
    "            self.df = pd.DataFrame(questions, columns=[\"questions\"])\n",
    "        else:\n",
    "            if col_name is None:\n",
    "                raise ValueError(f\"col_name must consist of the name of the column in the dataframe cosisting the questions, should not be None\")\n",
    "            else:\n",
    "                self.df = pd.DataFrame(questions[col_name], columns=[\"questions\"])\n",
    "        \n",
    "        if self.casefold:\n",
    "            self.df[\"questions\"] = self.df[\"questions\"].apply(lambda qn: self._casefold(qn))\n",
    "        if self.remove_stop_words:\n",
    "            self.df[\"questions\"] = self.df[\"questions\"].apply(lambda qn: self._remove_stopwords(qn))\n",
    "        if self.lemmatize:\n",
    "            self.df[\"questions\"] = self.df[\"questions\"].apply(lambda qn: self._lemmatize(qn))\n",
    "        \n",
    "        vector_qns = self.vectorizer.transform(self.df[\"questions\"])\n",
    "        return vector_qns\n",
    "\n",
    "\n",
    "    def _remove_stopwords(self,\n",
    "                          text: str) -> str:\n",
    "        new_text = [word for word in text.split(' ') if word not in self.STOPWORDS]\n",
    "        return ' '.join(new_text)\n",
    "    \n",
    "    def _lemmatize(self,\n",
    "                   text: str) -> str:\n",
    "        new_text = [self.WN_LEMMATIZER.lemmatize(word) for word in text.split(' ')]\n",
    "        return ' '.join(new_text)\n",
    "    \n",
    "    def _casefold(self,\n",
    "                  text: str) -> str:\n",
    "        return text.lower()"
   ]
  },
  {
   "cell_type": "code",
   "execution_count": 22,
   "metadata": {},
   "outputs": [],
   "source": [
    "tf = TfIdfTokenizer()\n",
    "vect = tf.process(np.array([\"Solve this\", \"Solve that given this\",\n",
    "                            \"Given an array of size n, find sum\"]))"
   ]
  },
  {
   "cell_type": "code",
   "execution_count": 23,
   "metadata": {},
   "outputs": [
    {
     "data": {
      "text/plain": [
       "(3, 700)"
      ]
     },
     "execution_count": 23,
     "metadata": {},
     "output_type": "execute_result"
    }
   ],
   "source": [
    "vect.toarray().shape"
   ]
  },
  {
   "cell_type": "markdown",
   "metadata": {},
   "source": [
    "# Building the tagger"
   ]
  },
  {
   "cell_type": "code",
   "execution_count": 34,
   "metadata": {},
   "outputs": [],
   "source": [
    "import os\n",
    "class DSTagger:\n",
    "\n",
    "    CLASSES = {0: \"graph\", 1: \"array\", 2: \"string\"}\n",
    "\n",
    "    def __init__(self,\n",
    "                 model: str='stacked') -> None:\n",
    "        \n",
    "        self.model_name = model\n",
    "        \n",
    "        if model+\".sav\" not in os.listdir(\"models/\"):\n",
    "            raise ValueError(f\"The passed model name: {self.model_name} is not available in the list of models\")\n",
    "\n",
    "        self.model = pickle.load(open(f\"models/{self.model_name}.sav\", \"rb\"))\n",
    "        self.tokenizer = TfIdfTokenizer()\n",
    "    \n",
    "    def __repr__(self) -> str:\n",
    "        return f\"DSTagger(model={self.model_name})\"\n",
    "    \n",
    "    def __str__(self) -> str:\n",
    "        return f\"DSTagger(model={self.model_name})\"\n",
    "    \n",
    "    def tag(self,\n",
    "            questions: Union[np.ndarray, pd.Series, pd.DataFrame],\n",
    "            col_name: str=None) -> np.ndarray:\n",
    "        \n",
    "        if not (isinstance(questions, np.ndarray) or isinstance(questions, pd.Series) or isinstance(questions, pd.DataFrame)):\n",
    "            raise TypeError(f\"'questions' must be of type numpy.ndarray or pandas.Series or pandas.DataFrame. But it is of type {type(questions)}\")\n",
    "\n",
    "        if isinstance(questions, np.ndarray):\n",
    "            if len(questions.shape) > 1:\n",
    "                raise ValueError(f\"Expected one dimensional numpy array, but got array of shape: {questions.shape}\")\n",
    "            else:\n",
    "                self.df = pd.DataFrame(data=questions, columns=[\"questions\"])\n",
    "        elif isinstance(questions, pd.Series):\n",
    "            self.df = pd.DataFrame(questions, columns=[\"questions\"])\n",
    "        else:\n",
    "            if col_name is None:\n",
    "                raise ValueError(f\"col_name must consist of the name of the column in the dataframe cosisting the questions, should not be None\")\n",
    "            else:\n",
    "                self.df = pd.DataFrame(questions[col_name], columns=[\"questions\"])\n",
    "        \n",
    "        self._features = self.tokenizer.process(questions)\n",
    "        self._make_predictions()\n",
    "        return self.pred_proba\n",
    "\n",
    "\n",
    "    def int_to_label(self,\n",
    "                     class_idx: int) -> str:\n",
    "        return self.CLASSES[class_idx]\n",
    "\n",
    "    def _make_predictions(self) -> None:\n",
    "        self.pred_proba = self.model.predict_proba(self._features)\n",
    "        for (k, v) in self.CLASSES.items():\n",
    "            self.df[v] = self.pred_proba[:, k]\n",
    "        pred_classes = np.argmax(self.pred_proba, axis=-1)\n",
    "        self.df[\"ds_tag\"] = pred_classes\n",
    "        self.df[\"ds_tag\"] = self.df[\"ds_tag\"].apply(lambda class_idx: self.int_to_label(class_idx))\n"
   ]
  },
  {
   "cell_type": "code",
   "execution_count": 35,
   "metadata": {},
   "outputs": [
    {
     "data": {
      "text/plain": [
       "array([[0.66296613, 0.02630655, 0.31072732],\n",
       "       [0.66296613, 0.02630655, 0.31072732],\n",
       "       [0.74204421, 0.03800439, 0.21995141]])"
      ]
     },
     "execution_count": 35,
     "metadata": {},
     "output_type": "execute_result"
    }
   ],
   "source": [
    "tagger = DSTagger()\n",
    "tagged = tagger.tag(np.array([\"Solve this\", \"Solve that given this\",\n",
    "                            \"Given an array of size n, find sum\"]))\n",
    "tagged"
   ]
  }
 ],
 "metadata": {
  "kernelspec": {
   "display_name": "tf",
   "language": "python",
   "name": "python3"
  },
  "language_info": {
   "codemirror_mode": {
    "name": "ipython",
    "version": 3
   },
   "file_extension": ".py",
   "mimetype": "text/x-python",
   "name": "python",
   "nbconvert_exporter": "python",
   "pygments_lexer": "ipython3",
   "version": "3.11.0"
  },
  "orig_nbformat": 4
 },
 "nbformat": 4,
 "nbformat_minor": 2
}
