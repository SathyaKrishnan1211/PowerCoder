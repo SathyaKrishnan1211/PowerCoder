{
 "cells": [
  {
   "cell_type": "code",
   "execution_count": 1,
   "metadata": {},
   "outputs": [],
   "source": [
    "import pandas as pd\n",
    "import numpy as np\n",
    "import pickle\n",
    "import sys\n",
    "import string\n",
    "sys.path.insert(0, \"..\")"
   ]
  },
  {
   "cell_type": "markdown",
   "metadata": {},
   "source": [
    "# Build the preprocessor "
   ]
  },
  {
   "cell_type": "code",
   "execution_count": 2,
   "metadata": {},
   "outputs": [],
   "source": [
    "from typing import *"
   ]
  },
  {
   "cell_type": "code",
   "execution_count": null,
   "metadata": {},
   "outputs": [],
   "source": [
    "class TfIdfProcessor:\n",
    "\n",
    "    PUNCTUATION = string.punctuation\n",
    "\n",
    "    def __init__(self,\n",
    "                 casefold: bool=True,\n",
    "                 remove_stop_words: bool=True,\n",
    "                 lemmatize: bool=True) -> None:\n",
    "        \n",
    "        self.casefold = casefold\n",
    "        self.remove_stop_words = remove_stop_words\n",
    "        self.lemmatize = lemmatize\n",
    "        self.vectorizer = pickle.load(open(\"tokenizer/tfidf.sav\", \"rb\"))\n",
    "    \n",
    "    def __repr__(self) -> str:\n",
    "        return f\"TfIdfProcesser(casefold={self.casefold}\" + \\\n",
    "               f\",remove_stop_words={self.remove_stop_words},\" + \\\n",
    "               f\"lemmatize={self.lemmatize})\"\n",
    "    \n",
    "    def __str__(self) -> str:\n",
    "        return f\"TfIdfProcesser(casefold={self.casefold}\" + \\\n",
    "               f\",remove_stop_words={self.remove_stop_words},\" + \\\n",
    "               f\"lemmatize={self.lemmatize})\"\n",
    "\n",
    "    def process(self,\n",
    "                questions: Union[np.ndarray, pd.Series, pd.DataFrame],\n",
    "                col_name: str=None) -> np.ndarray:\n",
    "        \n",
    "        if not (isinstance(questions, np.ndarray), isinstance(questions, pd.Series), pd.DataFrame):\n",
    "            raise TypeError(f\"'questions' must be of type numpy.ndarray or pandas.Series or pandas.DataFrame. But it is of type {type(questions)}\")\n",
    "\n",
    "        if isinstance(questions, np.ndarray):\n",
    "            if len(questions.shape) > 1:\n",
    "                raise ValueError(f\"Expected one dimensional numpy array, but got array of shape: {questions.shape}\")\n",
    "            else:\n",
    "                self.df = pd.DataFrame(data=questions, columns=[\"questions\"])\n",
    "        elif isinstance(questions, pd.Series):\n",
    "            self.df = pd.DataFrame(questions, columns=[\"questions\"])\n",
    "        else:\n",
    "            if col_name is None:\n",
    "                raise ValueError(f\"col_name must consist of the name of the column in the dataframe cosisting the questions, should not be None\")\n",
    "            else:\n",
    "                self.df = pd.DataFrame(questions[col_name], columns=[\"questions\"])\n",
    "                       "
   ]
  },
  {
   "cell_type": "code",
   "execution_count": 8,
   "metadata": {},
   "outputs": [
    {
     "data": {
      "text/plain": [
       "(3,)"
      ]
     },
     "execution_count": 8,
     "metadata": {},
     "output_type": "execute_result"
    }
   ],
   "source": [
    "a = np.array([\"Hi\", \"hello\", \"hi there\"])\n",
    "# pd.DataFrame(pd.Series(a), columns=[\"question\"])\n",
    "a.shape"
   ]
  },
  {
   "cell_type": "code",
   "execution_count": null,
   "metadata": {},
   "outputs": [],
   "source": []
  }
 ],
 "metadata": {
  "kernelspec": {
   "display_name": "tf",
   "language": "python",
   "name": "python3"
  },
  "language_info": {
   "codemirror_mode": {
    "name": "ipython",
    "version": 3
   },
   "file_extension": ".py",
   "mimetype": "text/x-python",
   "name": "python",
   "nbconvert_exporter": "python",
   "pygments_lexer": "ipython3",
   "version": "3.11.0"
  },
  "orig_nbformat": 4
 },
 "nbformat": 4,
 "nbformat_minor": 2
}
